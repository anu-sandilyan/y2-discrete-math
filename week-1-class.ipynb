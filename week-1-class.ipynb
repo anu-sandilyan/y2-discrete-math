{
  "cells": [
    {
      "cell_type": "markdown",
      "metadata": {
        "id": "q3XWUHtE7iGv"
      },
      "source": [
        "# Week 1 class\n",
        "\n",
        "[![Open In Colab](https://colab.research.google.com/assets/colab-badge.svg)](https://colab.research.google.com/github/goodman-imperial/discrete-maths-classes/blob/main/week-1-class.ipynb)\n",
        "\n",
        "The aim of this class is to implement the Fibonacci algorithm using the following methods, and plot their timings (for $n=1$ to 100, except for the recursive algorithm where you should stop at $n=30$):\n",
        "\n",
        "* Recursive\n",
        "* Table\n",
        "* Keep last two values\n",
        "* Analytic (if you have time)\n",
        "* Matrix (if you have time)\n",
        "\n",
        "## Python\n",
        "\n",
        "You can use any language you like, but I'll use Python for all my code samples and during the class. I think Python is very simple syntactically so the code samples should be easy enough to follow even if you don't know Python. On the other hand, I would strongly encourage you to learn it as it's an incredibly useful language. Here is a nice tutorial on Python, NumPy (numerical library for efficient array computation) and Jupyter (the notebook interface I'm using here):\n",
        "\n",
        "* [Python Numpy Jupyter tutorial](https://cs231n.github.io/python-numpy-tutorial/)\n",
        "\n",
        "Here is a little sample of plotting timings for a function in Python."
      ]
    },
    {
      "cell_type": "code",
      "execution_count": null,
      "metadata": {
        "id": "8rg8yDXf7iGx",
        "outputId": "92aa00b9-077f-43f8-dd1a-7ed9cc05ae95"
      },
      "outputs": [
        {
          "data": {
            "image/png": "[encoded data removed]",
            "text/plain": [
              "<Figure size 432x288 with 1 Axes>"
            ]
          },
          "metadata": {
            "needs_background": "light"
          },
          "output_type": "display_data"
        }
      ],
      "source": [
        "# this first line is just used to make the plots appear nicely in the notebook\n",
        "%matplotlib inline\n",
        "import matplotlib.pyplot as plt\n",
        "import numpy as np\n",
        "import time\n",
        "\n",
        "def fake_function(n):\n",
        "    time.sleep(0.001*n*n)\n",
        "\n",
        "def timeit(n):\n",
        "    start = time.time()\n",
        "    fake_function(n)\n",
        "    end = time.time()\n",
        "    return end-start\n",
        "\n",
        "N = [0, 10, 20, 30, 40, 50]\n",
        "T = [timeit(n) for n in N]\n",
        "plt.plot(N, T)\n",
        "plt.xlabel('n')\n",
        "plt.ylabel('Time (s)');"
      ]
    },
    {
      "cell_type": "markdown",
      "metadata": {
        "id": "BLQefmDB7iGy"
      },
      "source": [
        "## Implementation notes on compiled languages\n",
        "\n",
        "For the other ones, if you're using a compiled language, they might run so fast that in order to time them you should slow down the addition by adding a 1 microsecond wait. I've included a C++ ``busy_sleep`` function below to do that.\n",
        "\n",
        "```c++\n",
        "#include <chrono>\n",
        "#include <iostream>\n",
        "#include <fstream>\n",
        "\n",
        "using namespace std;\n",
        "\n",
        "// this function busy sleeps for n microseconds\n",
        "void busy_sleep(int n)\n",
        "{\n",
        "    auto start = chrono::steady_clock::now();\n",
        "    while(chrono::duration_cast<chrono::microseconds>(chrono::steady_clock::now() - start).count()<n) {};\n",
        "}\n",
        "```"
      ]
    },
    {
      "cell_type": "markdown",
      "source": [
        "# Fibonacci Algorithms"
      ],
      "metadata": {
        "id": "t7MaGcNY8B6j"
      }
    },
    {
      "cell_type": "markdown",
      "source": [
        "Recursive"
      ],
      "metadata": {
        "id": "A1DH2fqy8W_a"
      }
    },
    {
      "cell_type": "code",
      "source": [
        "%matplotlib inline\n",
        "import matplotlib.pyplot as plt\n",
        "import numpy as np\n",
        "import time\n",
        "\n",
        "def recursive(n):\n",
        "    if n <= 2:\n",
        "      return 1\n",
        "    else:\n",
        "      return recursive(n-1) + recursive(n-2)\n",
        "\n",
        "def timeit(n):\n",
        "    start = time.time()\n",
        "    recursive(n)\n",
        "    end = time.time()\n",
        "    return end-start\n",
        "\n",
        "N = [i for i in range(30)]\n",
        "T = [timeit(n) for n in N]\n",
        "plt.plot(N, T)\n",
        "plt.xlabel('n')\n",
        "plt.ylabel('Time (s)');"
      ],
      "metadata": {
        "id": "L_ICtwau8NhM",
        "outputId": "18774e50-5ab1-4ef3-a6eb-55e8a874bb6e",
        "colab": {
          "base_uri": "https://localhost:8080/",
          "height": 449
        }
      },
      "execution_count": 2,
      "outputs": [
        {
          "output_type": "display_data",
          "data": {
            "text/plain": [
              "<Figure size 640x480 with 1 Axes>"
            ],
            "image/png": "[encoded data removed]"
          },
          "metadata": {}
        }
      ]
    }
  ],
  "metadata": {
    "colab": {
      "name": "Discrete-maths-timing-template.ipynb",
      "provenance": [],
      "toc_visible": true
    },
    "kernelspec": {
      "display_name": "Python 3",
      "language": "python",
      "name": "python3"
    },
    "language_info": {
      "codemirror_mode": {
        "name": "ipython",
        "version": 3
      },
      "file_extension": ".py",
      "mimetype": "text/x-python",
      "name": "python",
      "nbconvert_exporter": "python",
      "pygments_lexer": "ipython3",
      "version": "3.9.2"
    }
  },
  "nbformat": 4,
  "nbformat_minor": 0
}