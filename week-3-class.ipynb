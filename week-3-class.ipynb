{
  "cells": [
    {
      "cell_type": "markdown",
      "id": "3031868e",
      "metadata": {
        "id": "3031868e"
      },
      "source": [
        "# Week 3 - class\n",
        "\n",
        "We'll go through the 2014 Algorithms and Complexity exam, Q2 (below). For part (b), rather than writing pseudocode I'd like you to write code that implements it. I've included templates in Python and C++ below. I'd suggest you have a go at least at the coding part before the class."
      ]
    },
    {
      "cell_type": "markdown",
      "id": "870ab20f",
      "metadata": {
        "id": "870ab20f"
      },
      "source": [
        "## 2014 Q2\n",
        "\n",
        "**Note: the original exam question had a mistake on it, use this version.**\n",
        "\n",
        "Consider an array $A=[a_1,a_2,\\ldots,a_n]$ containing $n$ elements. The only operation you are allowed is to check whether two elements are equal, i.e. \"is $a_i$ equal to $a_j$?\" and these will be the elementary operations.\n",
        "\n",
        "In what follows, assume that $n$ is a power of 2, i.e. $n=2^k$ for some positive integer $k$.\n",
        "\n",
        "An element $x$ is the *majority* element in $A$ if it occurs more than $n/2$ times in the array. So for example, $[1,2,1,1]$ (with $n=4$) has a majority element 1 because it occurs $3>n/2$ times. The array $[1,2,3,3]$ has no majority element: 3 occurs twice, but this isn't enough because it is not true that $2>n/2$.\n",
        "\n",
        "We will consider two distinct algorithms for finding the majority element in a list.\n",
        "\n",
        "**(a)** Let us first start with a naive approach. Describe, in words, what the different steps of the following algorithm do and derive the complexity of this algorithm in terms of elementary operations. **[ 5 ]**\n",
        "    \n",
        "```Python\n",
        "def majority(A):\n",
        "    n = len(A)\n",
        "    for i in range(n):\n",
        "        c = 0\n",
        "        for j in range(n):\n",
        "            if A[i]==A[j]:\n",
        "                c = c+1\n",
        "        if c>n/2:\n",
        "            return A[i]\n",
        "    return None\n",
        "```\n",
        "\n",
        "**(b)** Derive in words or using pseudocode, a divide-and-conquer recursive algorithm for finding the majority element in $A$. **[ 10 ]**\n",
        "\n",
        "> Hint: You need to distinguish a number of scenarios depending on whether there is a majority element in the first and/or second array of the divide-and-conquer procedure.\n",
        "\n",
        "**(c)** Compute the complexity of the algorithm you described in part (b). **[ 5 ]**"
      ]
    },
    {
      "cell_type": "markdown",
      "id": "3b30d9b8",
      "metadata": {
        "id": "3b30d9b8"
      },
      "source": [
        "## Python template"
      ]
    },
    {
      "cell_type": "code",
      "execution_count": 2,
      "id": "4cc1d904",
      "metadata": {
        "id": "4cc1d904",
        "outputId": "e82ee864-d561-4761-f4ea-6cb770d52c5b",
        "colab": {
          "base_uri": "https://localhost:8080/"
        }
      },
      "outputs": [
        {
          "output_type": "stream",
          "name": "stdout",
          "text": [
            "8 -1 2\n",
            "You got it!\n",
            "8 -1 2\n",
            "You got it!\n"
          ]
        }
      ],
      "source": [
        "def majority(x):\n",
        "  length = len(x)\n",
        "  if length <= 1:\n",
        "    return 0\n",
        "  mid = length//2\n",
        "  index_l = majority(x[:mid])\n",
        "  index_r = majority(x[mid:])\n",
        "  if index_l != -1: # check that left side has a majority element\n",
        "    maj_l = x[index_l] # get majority value from index\n",
        "    count = 0\n",
        "    for i in range(length): # checks occurences in entire array\n",
        "      if x[i] == maj_l:\n",
        "        count += 1\n",
        "\n",
        "    if count > length/2:\n",
        "      return index_l # confirmed majority, return its index\n",
        "\n",
        "  if index_r != -1:\n",
        "    if index_l != -1 and x[index_l] != x[index_r]: # checking right side, make sure majority value isn't the same for both halves\n",
        "      pass\n",
        "    else:\n",
        "      maj_r = x[mid + index_r] # right half, indexes are offset by midpoint\n",
        "      count = 0\n",
        "      for i in range(length):\n",
        "        if x[i] == maj_r:\n",
        "          count += 1\n",
        "        if count > length/2:\n",
        "          return mid + index_r\n",
        "  return -1 # if no majority\n",
        "\n",
        "x1 = [1,2,3,4,3,2,2,2,2,2,2,3,2,1,2,3]\n",
        "x2 = [8,9,10,10]\n",
        "maj1 = majority(x1)\n",
        "maj2 = majority(x2)\n",
        "print(maj1, maj2, x1[maj1])\n",
        "if maj1==-1:\n",
        "    print(\"Wrong! (1)\")\n",
        "elif maj1>=len(x1):\n",
        "    print(\"Wrong! (2)\")\n",
        "elif x1[maj1]!=2:\n",
        "    print(\"Wrong! (3)\")\n",
        "elif maj2!=-1:\n",
        "    print(\"Wrong! (4)\")\n",
        "else:\n",
        "    print(\"You got it!\")\n",
        "\n",
        "x1 = [1,2,3,4,3,2,2,2,2,2,2,3,2,1,2,3]\n",
        "x2 = [8,9,10,10]\n",
        "maj1 = majority(x1)\n",
        "maj2 = majority(x2)\n",
        "print(maj1, maj2, x1[maj1])\n",
        "if maj1==-1:\n",
        "    print(\"Wrong! (1)\")\n",
        "elif maj1>=len(x1):\n",
        "    print(\"Wrong! (2)\")\n",
        "elif x1[maj1]!=2:\n",
        "    print(\"Wrong! (3)\")\n",
        "elif maj2!=-1:\n",
        "    print(\"Wrong! (4)\")\n",
        "else:\n",
        "    print(\"You got it!\")"
      ]
    },
    {
      "cell_type": "markdown",
      "id": "39bfd8e2",
      "metadata": {
        "id": "39bfd8e2"
      },
      "source": [
        "## C++ template\n",
        "\n",
        "```C++\n",
        "#include<iostream>\n",
        "#include<vector>\n",
        "#include<algorithm>\n",
        "\n",
        "using namespace std;\n",
        "\n",
        "int majority(vector<int> &x)\n",
        "{\n",
        "    // should return i where either i==-1 if there is no majority\n",
        "    // element, or if 0<=i<x.size() where x[i] is the majority\n",
        "    // element.\n",
        "}\n",
        "\n",
        "#define WRONG { cout << \"Nope!\" << endl; return 0; }\n",
        "\n",
        "int main(void)\n",
        "{\n",
        "    vector<int> x1{1,2,3,4,3,2,2,2,2,2,2,3,2,1,2,3};\n",
        "    vector<int> x2{8,9,10,10};\n",
        "    int maj1 = majority(x1);\n",
        "    int maj2 = majority(x2);\n",
        "    //cout << maj1 << \" \" << maj2 << endl;\n",
        "    if(maj1==-1) WRONG;\n",
        "    if(maj1>=x1.size()) WRONG;\n",
        "    if(x1[maj1]!=2) WRONG;\n",
        "    if(maj2!=-1) WRONG;\n",
        "    cout << \"You got it!\" << endl;\n",
        "    return 0;\n",
        "}\n",
        "```"
      ]
    }
  ],
  "metadata": {
    "kernelspec": {
      "display_name": "Python 3 (ipykernel)",
      "language": "python",
      "name": "python3"
    },
    "language_info": {
      "codemirror_mode": {
        "name": "ipython",
        "version": 3
      },
      "file_extension": ".py",
      "mimetype": "text/x-python",
      "name": "python",
      "nbconvert_exporter": "python",
      "pygments_lexer": "ipython3",
      "version": "3.10.4"
    },
    "colab": {
      "provenance": []
    }
  },
  "nbformat": 4,
  "nbformat_minor": 5
}